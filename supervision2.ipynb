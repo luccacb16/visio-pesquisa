{
 "cells": [
  {
   "cell_type": "code",
   "execution_count": 1,
   "metadata": {},
   "outputs": [],
   "source": [
    "# YOLOv8\n",
    "import ultralytics\n",
    "from ultralytics import YOLO\n",
    "\n",
    "import numpy as np\n",
    "import cv2\n",
    "import torch\n",
    "\n",
    "import supervision as sv\n",
    "\n",
    "from collections import defaultdict\n",
    "from tqdm.notebook import tqdm"
   ]
  },
  {
   "cell_type": "code",
   "execution_count": 2,
   "metadata": {},
   "outputs": [
    {
     "name": "stdout",
     "output_type": "stream",
     "text": [
      "CUDA disponível\n",
      "Ultralytics: 8.0.106\n",
      "Torch: 2.1.1+cu121\n",
      "supervision: 0.16.0\n"
     ]
    }
   ],
   "source": [
    "print('CUDA disponível' if torch.cuda.is_available() else 'CUDA indisponível')\n",
    "print(f'Ultralytics: {ultralytics.__version__}')\n",
    "print(f'Torch: {torch.__version__}')\n",
    "print(f'supervision: {sv.__version__}')"
   ]
  },
  {
   "cell_type": "code",
   "execution_count": 3,
   "metadata": {},
   "outputs": [
    {
     "name": "stderr",
     "output_type": "stream",
     "text": [
      "YOLOv8n summary (fused): 168 layers, 3151904 parameters, 0 gradients\n"
     ]
    },
    {
     "name": "stdout",
     "output_type": "stream",
     "text": [
      "cuda\n"
     ]
    }
   ],
   "source": [
    "device = 'cuda' if torch.cuda.is_available() else 'cpu'\n",
    "print(device)\n",
    "\n",
    "# Carregando o modelo pré-treinado\n",
    "model = YOLO('yolov8n.pt')\n",
    "model.fuse()"
   ]
  },
  {
   "cell_type": "code",
   "execution_count": 4,
   "metadata": {},
   "outputs": [
    {
     "name": "stdout",
     "output_type": "stream",
     "text": [
      "{0: 'person', 1: 'bicycle', 2: 'car', 3: 'motorcycle', 4: 'airplane', 5: 'bus', 6: 'train', 7: 'truck', 8: 'boat', 9: 'traffic light', 10: 'fire hydrant', 11: 'stop sign', 12: 'parking meter', 13: 'bench', 14: 'bird', 15: 'cat', 16: 'dog', 17: 'horse', 18: 'sheep', 19: 'cow', 20: 'elephant', 21: 'bear', 22: 'zebra', 23: 'giraffe', 24: 'backpack', 25: 'umbrella', 26: 'handbag', 27: 'tie', 28: 'suitcase', 29: 'frisbee', 30: 'skis', 31: 'snowboard', 32: 'sports ball', 33: 'kite', 34: 'baseball bat', 35: 'baseball glove', 36: 'skateboard', 37: 'surfboard', 38: 'tennis racket', 39: 'bottle', 40: 'wine glass', 41: 'cup', 42: 'fork', 43: 'knife', 44: 'spoon', 45: 'bowl', 46: 'banana', 47: 'apple', 48: 'sandwich', 49: 'orange', 50: 'broccoli', 51: 'carrot', 52: 'hot dog', 53: 'pizza', 54: 'donut', 55: 'cake', 56: 'chair', 57: 'couch', 58: 'potted plant', 59: 'bed', 60: 'dining table', 61: 'toilet', 62: 'tv', 63: 'laptop', 64: 'mouse', 65: 'remote', 66: 'keyboard', 67: 'cell phone', 68: 'microwave', 69: 'oven', 70: 'toaster', 71: 'sink', 72: 'refrigerator', 73: 'book', 74: 'clock', 75: 'vase', 76: 'scissors', 77: 'teddy bear', 78: 'hair drier', 79: 'toothbrush'}\n"
     ]
    }
   ],
   "source": [
    "print(model.model.names)"
   ]
  },
  {
   "cell_type": "code",
   "execution_count": 5,
   "metadata": {},
   "outputs": [],
   "source": [
    "# Selecionando apenas as classes relevantes pro problema\n",
    "classes = [2, 7]"
   ]
  },
  {
   "cell_type": "code",
   "execution_count": 6,
   "metadata": {},
   "outputs": [
    {
     "name": "stdout",
     "output_type": "stream",
     "text": [
      "VideoInfo(width=1280, height=720, fps=25, total_frames=750)\n"
     ]
    }
   ],
   "source": [
    "# Carrega o vídeo\n",
    "VIDEO = './dataset/road_video001.mp4'\n",
    "OUTPUT = 'output_supervision2.mp4'\n",
    "\n",
    "video_info = sv.VideoInfo.from_video_path(VIDEO)\n",
    "print(video_info)\n",
    "\n",
    "# Linha para contagem de carros\n",
    "START = sv.Point(0, 2*video_info.height//3)\n",
    "END = sv.Point(video_info.width, 2*video_info.height//3)\n",
    "\n",
    "carros = 0"
   ]
  },
  {
   "cell_type": "code",
   "execution_count": 7,
   "metadata": {},
   "outputs": [
    {
     "name": "stderr",
     "output_type": "stream",
     "text": [
      "2023-12-03 17:21:49.118571: E external/local_xla/xla/stream_executor/cuda/cuda_dnn.cc:9261] Unable to register cuDNN factory: Attempting to register factory for plugin cuDNN when one has already been registered\n",
      "2023-12-03 17:21:49.118644: E external/local_xla/xla/stream_executor/cuda/cuda_fft.cc:607] Unable to register cuFFT factory: Attempting to register factory for plugin cuFFT when one has already been registered\n",
      "2023-12-03 17:21:49.186520: E external/local_xla/xla/stream_executor/cuda/cuda_blas.cc:1515] Unable to register cuBLAS factory: Attempting to register factory for plugin cuBLAS when one has already been registered\n"
     ]
    },
    {
     "name": "stdout",
     "output_type": "stream",
     "text": [
      "Carros: 63\n"
     ]
    }
   ],
   "source": [
    "# Annotators\n",
    "line_zone = sv.LineZone(START, END)\n",
    "line_annotator = sv.LineZoneAnnotator(thickness=2, text_thickness=2, text_scale=1)\n",
    "\n",
    "box_annotator = sv.BoxAnnotator(thickness=1, text_thickness=1, text_scale=0.5)\n",
    "\n",
    "byte_tracker = sv.ByteTrack(track_thresh=0.25, track_buffer=30, match_thresh=0.8, frame_rate=video_info.fps)\n",
    "\n",
    "def callback(frame: np.ndarray, index:int) -> np.ndarray:\n",
    "    results = model(frame, verbose=False)[0]\n",
    "        \n",
    "    detections = sv.Detections.from_ultralytics(results)\n",
    "    detections = detections[np.isin(detections.class_id, classes)]\n",
    "    detections = byte_tracker.update_with_detections(detections)\n",
    "    \n",
    "    labels = [\n",
    "        f'#{tracker_id} {model.model.names[class_id]} {confidence:.2f}'\n",
    "        for _, _, confidence, class_id, tracker_id in detections\n",
    "    ]\n",
    "    \n",
    "    annotated_frame = box_annotator.annotate(\n",
    "        scene=frame.copy(),\n",
    "        detections=detections,\n",
    "        labels=labels\n",
    "    )\n",
    "        \n",
    "    line_zone.trigger(detections)\n",
    "        \n",
    "    return line_annotator.annotate(annotated_frame, line_counter=line_zone)\n",
    "\n",
    "sv.process_video(\n",
    "    source_path=VIDEO,\n",
    "    target_path=OUTPUT,\n",
    "    callback=callback\n",
    ")\n",
    "\n",
    "# Contagem dos carros\n",
    "carros = line_zone.in_count + line_zone.out_count\n",
    "print(f'Carros: {carros}')"
   ]
  }
 ],
 "metadata": {
  "kernelspec": {
   "display_name": "Python 3",
   "language": "python",
   "name": "python3"
  },
  "language_info": {
   "codemirror_mode": {
    "name": "ipython",
    "version": 3
   },
   "file_extension": ".py",
   "mimetype": "text/x-python",
   "name": "python",
   "nbconvert_exporter": "python",
   "pygments_lexer": "ipython3",
   "version": "3.10.12"
  }
 },
 "nbformat": 4,
 "nbformat_minor": 2
}
