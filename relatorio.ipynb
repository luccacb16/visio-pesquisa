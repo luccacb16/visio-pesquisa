{
 "cells": [
  {
   "cell_type": "markdown",
   "metadata": {},
   "source": [
    "# **Relatório do Projeto**"
   ]
  },
  {
   "cell_type": "markdown",
   "metadata": {},
   "source": [
    "## **1. Resumo**"
   ]
  },
  {
   "cell_type": "markdown",
   "metadata": {},
   "source": [
    "O projeto consiste na criação de um algoritmo que recebe o caminho para um vídeo de uma rodovia e retorna o número de veículos que passaram por lá. \n",
    "\n",
    "Para isso, a aboragem utilizada foi de detecção e rastreamento (*detection* e *tracking*), através de algoritmos e técnicas de visão computacional. \n",
    "\n",
    "Como resultados, foram obtidos o número de veículos que passaram pela rodovia, o tempo de execução do algoritmo e o vídeo com os veículos detectados."
   ]
  },
  {
   "cell_type": "markdown",
   "metadata": {},
   "source": [
    "## **2. Metodologia e Desenvolvimento**"
   ]
  },
  {
   "cell_type": "markdown",
   "metadata": {},
   "source": [
    "### *2.1. Dataset*\n",
    "\n",
    "O conjunto de dados utilizado conta com uma gravação de duas rodovias vistas de um ponto fixo e alto. O vídeo tem 33:30 de duração e está divido em 67 vídeos no formato mp4 de 30 segundos cada. Os vídeos estão nomeados de 'road_video001' até 'road_video067'. As rodovias estão em sentidos opostos e possuem 3 faixas cada. Na rodovia da esquerda os veículos se afastam da câmera e na da direita os veículos se aproximam.\n",
    "\n",
    "Esse repositório contém apenas os 5 primeiros vídeos."
   ]
  },
  {
   "cell_type": "markdown",
   "metadata": {},
   "source": [
    "<center><img src=\"./media/road_video001.gif\" width=\"640\" height=\"360\" /></center>\n",
    "\n",
    "<center><i>Exemplo de road_video001</i></center>"
   ]
  },
  {
   "cell_type": "markdown",
   "metadata": {},
   "source": [
    "### *2.2. Algoritmo*"
   ]
  },
  {
   "cell_type": "markdown",
   "metadata": {},
   "source": [
    "O algoritmo de detecção e tracking escolhido para essa tarefa foi o **YOLOv8**. \n",
    "\n",
    "O YOLO, que significa *You Only Look Once*, é um sistema de detecção de objetos. Diferentemente de métodos tradicionais que realizam a detecção de objetos em várias etapas, o YOLO faz isso em uma única passagem. Ele divide a imagem recebida em uma grade e cada célula dessa grade é responsável por prever objetos. O YOLO utiliza uma rede neural convolucional (CNN) para analisar e classificar os objetos em cada célula e prever caixas delimitadoras (*bounding boxes*) e classes para cada objeto detectado. Dessa forma, ele se torna uma abordagem muito rápida e eficiente para detecção de objetos.\n",
    "\n",
    "Além da detecção, o YOLOv8 conta com algoritmos de tracking, que são responsáveis por rastrear os objetos detectados.  Nativamente, o YOLOv8 possui 2 algoritmos de tracking:\n",
    "- *ByteTrack*: utiliza de *features* extraídas pela rede neural do YOLO para reconhecer um mesmo objeto em diferentes frames.\n",
    "- *BoT-SORT*: utiliza do algoritmo SORT (Simple Online and Realtime Tracking) que é baseado no filtro de Kalman para predizer a posição do objeto no próximo frame.\n",
    "\n",
    "Cada veículo identificado e rastreado recebe um ID único, permitindo que seja feita a contagem de veículos que passaram pela rodovia.\n",
    "Outra abordagem de contagem implementada na solução permite que sejam delimitados dois pontos na imagem. \n",
    "Os veículos detectados que passarem pela linha formada pelos pontos são contabilizados."
   ]
  },
  {
   "cell_type": "markdown",
   "metadata": {},
   "source": [
    "### *2.3. Métricas*"
   ]
  },
  {
   "cell_type": "markdown",
   "metadata": {},
   "source": [
    "As métricas utilizadas para avaliar o desempenho do algoritmo foram:\n",
    "- **FPS**: número médio de frames processados por segundo.\n",
    "- **Tempo de execução**: tempo total de execução do algoritmo.\n",
    "- **Número de veículos**: número de veículos identificados."
   ]
  },
  {
   "cell_type": "markdown",
   "metadata": {},
   "source": [
    "## **3. Resultados e Discussões**"
   ]
  },
  {
   "cell_type": "markdown",
   "metadata": {},
   "source": []
  },
  {
   "cell_type": "markdown",
   "metadata": {},
   "source": [
    "<center><img src=\"./media/road_video001_output.gif\" width=\"640\" height=\"360\" /></center>\n",
    "\n",
    "<center><i>Exemplo de output de road_video001</i></center>"
   ]
  },
  {
   "cell_type": "markdown",
   "metadata": {},
   "source": [
    "<center><img src=\"./media/road_video001_output_linha.gif\" width=\"640\" height=\"360\" /></center>\n",
    "\n",
    "<center><i>Exemplo de output com linha de road_video001</i></center>"
   ]
  },
  {
   "cell_type": "markdown",
   "metadata": {},
   "source": [
    "# **4. Conclusão**"
   ]
  },
  {
   "cell_type": "markdown",
   "metadata": {},
   "source": []
  }
 ],
 "metadata": {
  "language_info": {
   "name": "python"
  }
 },
 "nbformat": 4,
 "nbformat_minor": 2
}
