{
 "cells": [
  {
   "cell_type": "code",
   "execution_count": 15,
   "metadata": {},
   "outputs": [],
   "source": [
    "# YOLOv8\n",
    "import ultralytics\n",
    "from ultralytics import YOLO\n",
    "\n",
    "import numpy as np\n",
    "import cv2\n",
    "import torch\n",
    "import torch.backends.cudnn as cudnn\n",
    "\n",
    "import supervision as sv\n",
    "\n",
    "from collections import defaultdict"
   ]
  },
  {
   "cell_type": "code",
   "execution_count": 16,
   "metadata": {},
   "outputs": [
    {
     "name": "stdout",
     "output_type": "stream",
     "text": [
      "CUDA disponível\n",
      "Ultralytics: 8.0.106\n",
      "Torch: 2.1.1+cu121\n",
      "supervision: 0.16.0\n"
     ]
    }
   ],
   "source": [
    "print('CUDA disponível' if torch.cuda.is_available() else 'CUDA indisponível')\n",
    "print(f'Ultralytics: {ultralytics.__version__}')\n",
    "print(f'Torch: {torch.__version__}')\n",
    "print(f'supervision: {sv.__version__}')"
   ]
  },
  {
   "cell_type": "code",
   "execution_count": 17,
   "metadata": {},
   "outputs": [
    {
     "name": "stdout",
     "output_type": "stream",
     "text": [
      "VideoInfo(width=1280, height=720, fps=25, total_frames=750)\n"
     ]
    }
   ],
   "source": [
    "# Carrega o vídeo\n",
    "VIDEO = './dataset/road_video001.mp4'\n",
    "OUTPUT = 'output_supervision.mp4'\n",
    "\n",
    "cap = cv2.VideoCapture(VIDEO)\n",
    "\n",
    "video_info = sv.VideoInfo.from_video_path(VIDEO)\n",
    "print(video_info)\n",
    "\n",
    "# Linha para contagem de veiculos\n",
    "START = sv.Point(0, 2*video_info.height//3)\n",
    "END = sv.Point(video_info.width, 2*video_info.height//3)\n",
    "\n",
    "# Cria o contador de objetos\n",
    "veiculos = set()\n",
    "\n",
    "track_history = defaultdict(lambda: [])"
   ]
  },
  {
   "cell_type": "code",
   "execution_count": 18,
   "metadata": {},
   "outputs": [
    {
     "name": "stdout",
     "output_type": "stream",
     "text": [
      "cuda\n"
     ]
    }
   ],
   "source": [
    "device = 'cuda' if torch.cuda.is_available() else 'cpu'\n",
    "print(device)\n",
    "\n",
    "# Carregando o modelo pré-treinado\n",
    "model = YOLO('yolov8n.pt')"
   ]
  },
  {
   "cell_type": "code",
   "execution_count": 19,
   "metadata": {},
   "outputs": [
    {
     "name": "stdout",
     "output_type": "stream",
     "text": [
      "{0: 'person', 1: 'bicycle', 2: 'car', 3: 'motorcycle', 4: 'airplane', 5: 'bus', 6: 'train', 7: 'truck', 8: 'boat', 9: 'traffic light', 10: 'fire hydrant', 11: 'stop sign', 12: 'parking meter', 13: 'bench', 14: 'bird', 15: 'cat', 16: 'dog', 17: 'horse', 18: 'sheep', 19: 'cow', 20: 'elephant', 21: 'bear', 22: 'zebra', 23: 'giraffe', 24: 'backpack', 25: 'umbrella', 26: 'handbag', 27: 'tie', 28: 'suitcase', 29: 'frisbee', 30: 'skis', 31: 'snowboard', 32: 'sports ball', 33: 'kite', 34: 'baseball bat', 35: 'baseball glove', 36: 'skateboard', 37: 'surfboard', 38: 'tennis racket', 39: 'bottle', 40: 'wine glass', 41: 'cup', 42: 'fork', 43: 'knife', 44: 'spoon', 45: 'bowl', 46: 'banana', 47: 'apple', 48: 'sandwich', 49: 'orange', 50: 'broccoli', 51: 'carrot', 52: 'hot dog', 53: 'pizza', 54: 'donut', 55: 'cake', 56: 'chair', 57: 'couch', 58: 'potted plant', 59: 'bed', 60: 'dining table', 61: 'toilet', 62: 'tv', 63: 'laptop', 64: 'mouse', 65: 'remote', 66: 'keyboard', 67: 'cell phone', 68: 'microwave', 69: 'oven', 70: 'toaster', 71: 'sink', 72: 'refrigerator', 73: 'book', 74: 'clock', 75: 'vase', 76: 'scissors', 77: 'teddy bear', 78: 'hair drier', 79: 'toothbrush'}\n"
     ]
    }
   ],
   "source": [
    "print(model.model.names)"
   ]
  },
  {
   "cell_type": "code",
   "execution_count": 20,
   "metadata": {},
   "outputs": [],
   "source": [
    "# Selecionando apenas as classes relevantes pro problema\n",
    "classes = [2, 7]"
   ]
  },
  {
   "cell_type": "code",
   "execution_count": 21,
   "metadata": {},
   "outputs": [
    {
     "name": "stdout",
     "output_type": "stream",
     "text": [
      "Veículos: 68\n"
     ]
    }
   ],
   "source": [
    "video_info = sv.VideoInfo.from_video_path(\"./dataset/road_video001.mp4\")\n",
    "\n",
    "with sv.VideoSink(\"output_supervision1.mp4\", video_info) as sink:\n",
    "    while cap.isOpened():\n",
    "        ret, frame = cap.read()\n",
    "        if not ret:\n",
    "            break\n",
    "        \n",
    "        results = model.track(frame, classes=classes, persist=True, tracker='bytetrack.yaml', device=0, verbose=False)\n",
    "        \n",
    "        if results[0].boxes.id is not None:\n",
    "            boxes = results[0].boxes.xywh.cpu()\n",
    "            tracks_ids = results[0].boxes.id.int().cpu().tolist()\n",
    "            \n",
    "            annotated_frame = results[0].plot()\n",
    "                        \n",
    "            detections = sv.Detections.from_ultralytics(results[0])\n",
    "            \n",
    "            for box, track_id in zip(boxes, tracks_ids):\n",
    "                x, y, w,h = box\n",
    "                track = track_history[track_id]\n",
    "                track.append((float(x), float(y)))\n",
    "                \n",
    "                if START.x < x < END.x and abs(y - START.y) < 5:\n",
    "                    if track_id not in veiculos:\n",
    "                        veiculos.add(track_id)\n",
    "                \n",
    "                cv2.rectangle(annotated_frame, (int(x - w / 2), int(y - h / 2)), (int(x + w / 2), int(y + h / 2)), (0, 255, 0), 2)\n",
    "            \n",
    "        cv2.line(annotated_frame, (START.x, START.y), (END.x, END.y), (0, 255, 0), 2)\n",
    "        \n",
    "        cv2.putText(annotated_frame, f'Veiculos: {len(veiculos)}', (10, 30), cv2.FONT_HERSHEY_SIMPLEX, 1, (0, 255, 0), 2)\n",
    "        \n",
    "        sink.write_frame(annotated_frame)\n",
    "    \n",
    "cap.release()\n",
    "\n",
    "print(f'Veículos: {len(veiculos)}')"
   ]
  }
 ],
 "metadata": {
  "kernelspec": {
   "display_name": "Python 3",
   "language": "python",
   "name": "python3"
  },
  "language_info": {
   "codemirror_mode": {
    "name": "ipython",
    "version": 3
   },
   "file_extension": ".py",
   "mimetype": "text/x-python",
   "name": "python",
   "nbconvert_exporter": "python",
   "pygments_lexer": "ipython3",
   "version": "3.10.12"
  }
 },
 "nbformat": 4,
 "nbformat_minor": 2
}
